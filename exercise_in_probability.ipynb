{
 "cells": [
  {
   "cell_type": "code",
   "execution_count": 1,
   "metadata": {},
   "outputs": [],
   "source": [
    "import pandas as pd\n",
    "import numpy as np"
   ]
  },
  {
   "cell_type": "code",
   "execution_count": 4,
   "metadata": {},
   "outputs": [
    {
     "name": "stdout",
     "output_type": "stream",
     "text": [
      "0.0625\n"
     ]
    }
   ],
   "source": [
    "#Question 1\n",
    "\n",
    "#The probability of either heads or tails coming up\n",
    "flip_prob = 0.5\n",
    "\n",
    "#The probability of either heads or tails coming up after 4 flips of the coin\n",
    "overall_prob = flip_prob ** 4\n",
    "\n",
    "print(overall_prob)"
   ]
  },
  {
   "cell_type": "code",
   "execution_count": 5,
   "metadata": {},
   "outputs": [],
   "source": [
    "#Question 1: What is the probability of flipping a balanced coin four times and getting each pattern: HTTH, HHHH, and TTHH?\n",
    "\n",
    "    #The probability is 0.0625 (based on the lines above). The probability is the same for each scenario because the\n",
    "    #probability after each toss will remain the same, so the order of the expected outcomes is irrelevant."
   ]
  },
  {
   "cell_type": "code",
   "execution_count": 6,
   "metadata": {},
   "outputs": [
    {
     "name": "stdout",
     "output_type": "stream",
     "text": [
      "0.4666666666666667\n",
      "0.5333333333333333\n"
     ]
    }
   ],
   "source": [
    "#Question 2\n",
    "\n",
    "#The probability of choosing a man\n",
    "male_prob = 21/45\n",
    "\n",
    "#The probability of not choosing a man\n",
    "female_prob = (45-21)/45\n",
    "\n",
    "print(male_prob)\n",
    "print(female_prob)"
   ]
  },
  {
   "cell_type": "code",
   "execution_count": 7,
   "metadata": {},
   "outputs": [],
   "source": [
    "#Question 2: What is the probability of not choosing a man?\n",
    "\n",
    "    #The probability of not choosing a man is 0.533."
   ]
  },
  {
   "cell_type": "code",
   "execution_count": 18,
   "metadata": {},
   "outputs": [
    {
     "name": "stdout",
     "output_type": "stream",
     "text": [
      "0.0005\n"
     ]
    }
   ],
   "source": [
    "#Question 3\n",
    "\n",
    "on_plane = 10\n",
    "crash_chance = 0.005\n",
    "\n",
    "Bernice_crash_chance = crash_chance / on_plane\n",
    "\n",
    "print(Bernice_crash_chance)"
   ]
  },
  {
   "cell_type": "code",
   "execution_count": 19,
   "metadata": {},
   "outputs": [],
   "source": [
    "#Question 3: What is the probability that Bernice will be in a plane crash sometime in the next year?\n",
    "\n",
    "    #The probability is 0.0005%. The formula would look like this: P(crash_chance | on_plane) = 0.005/10."
   ]
  },
  {
   "cell_type": "code",
   "execution_count": 20,
   "metadata": {},
   "outputs": [],
   "source": [
    "#Question 4: What is wrong with the conclusion that an average user spends 15 minutes on the company website?\n",
    "\n",
    "    #There are two assumptions that are being drawn that may not be accurate. First, the data scientist should know that not all\n",
    "    #users of the website will actually agree to take the survey, and those that do might spend more time on the site. Second,\n",
    "    #users that spend more time on the website are more likely to click a lot of links and will have an increased chance of\n",
    "    #receiving the survey."
   ]
  },
  {
   "cell_type": "code",
   "execution_count": null,
   "metadata": {},
   "outputs": [],
   "source": []
  }
 ],
 "metadata": {
  "kernelspec": {
   "display_name": "Python 3",
   "language": "python",
   "name": "python3"
  },
  "language_info": {
   "codemirror_mode": {
    "name": "ipython",
    "version": 3
   },
   "file_extension": ".py",
   "mimetype": "text/x-python",
   "name": "python",
   "nbconvert_exporter": "python",
   "pygments_lexer": "ipython3",
   "version": "3.6.3"
  }
 },
 "nbformat": 4,
 "nbformat_minor": 2
}
