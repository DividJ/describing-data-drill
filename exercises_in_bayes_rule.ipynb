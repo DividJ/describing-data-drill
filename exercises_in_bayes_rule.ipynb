{
 "cells": [
  {
   "cell_type": "code",
   "execution_count": 1,
   "metadata": {},
   "outputs": [],
   "source": [
    "import pandas as pd\n",
    "import numpy as np"
   ]
  },
  {
   "cell_type": "code",
   "execution_count": 2,
   "metadata": {},
   "outputs": [],
   "source": [
    "#Assign values for the known variables in the question\n",
    "\n",
    "#A diagnostic test has a 98% probability of giving a positive result when applied to a person suffering from Thripshaw's Disease\n",
    "prob_pos_and_dis = 0.98\n",
    "\n",
    "#10% probability of giving a (false) positive when applied to a non-sufferer\n",
    "prob_pos_and_fine = 0.10\n",
    "\n",
    "#It is estimated that 0.5 % of the population are sufferers\n",
    "prob_dis = 0.005"
   ]
  },
  {
   "cell_type": "code",
   "execution_count": 3,
   "metadata": {},
   "outputs": [
    {
     "name": "stdout",
     "output_type": "stream",
     "text": [
      "The probability that a person will receive a positive test is 0.1044\n"
     ]
    }
   ],
   "source": [
    "#Question 1: Calculate the probability that a test will come back positive for a person with an unknown status.\n",
    "\n",
    "#To calculate, we will need to take the inverse of the probability that the patient has the disease by subtracting 0.005 from 1\n",
    "prob_fine = 1 - prob_dis\n",
    "\n",
    "#The probability that the test comes back positive can be calculated using the following formula:\n",
    "    #P(disease) = P(positive diagnosis|disease) * P(disease) + P(positive diagnosis|no disease) * P(no disease)\n",
    "    #Inserting the known values into the formula, it will now look like this:\n",
    "        #P(disease) = 0.98 * 0.005 + 0.10 * (1 - 0.005)\n",
    "\n",
    "#Insert the variables defined above to match the formula that was written and show using Python\n",
    "prob_pos = (prob_pos_and_dis * prob_dis) + (prob_pos_and_fine * prob_fine)\n",
    "\n",
    "print('The probability that a person will receive a positive test is {}'.format(prob_pos))"
   ]
  },
  {
   "cell_type": "code",
   "execution_count": 4,
   "metadata": {},
   "outputs": [
    {
     "name": "stdout",
     "output_type": "stream",
     "text": [
      "The probability that a person will be correctly diagnosed as a sufferer of Thripshaw's disease is 0.98\n"
     ]
    }
   ],
   "source": [
    "#Question 2: Calculate the probability that someone will be correctly diagnosed as a sufferer of Thripshaw's.\n",
    "\n",
    "#This question has already been answered in the question's narrative. The text says that the test has a 98% probability of giving a positive result when applied to a person suffering from Thripshaw's Disease. This is the answer to the question.\n",
    "\n",
    "print('The probability that a person will be correctly diagnosed as a sufferer of Thripshaw\\'s disease is {}'.format(prob_pos_and_dis))"
   ]
  },
  {
   "cell_type": "code",
   "execution_count": 7,
   "metadata": {},
   "outputs": [
    {
     "name": "stdout",
     "output_type": "stream",
     "text": [
      "The probability that someone will be correctly diagnosed as a non-sufferer is 0.9884200975640056\n"
     ]
    }
   ],
   "source": [
    "#Question 3: Calculate the probability that someone will be correctly diagnosed as a non-sufferer of Thripshaw's.\n",
    "\n",
    "#Establish new variables to represent the inverse of previously established probabilities\n",
    "\n",
    "#The probability that a patient receives a negative test result\n",
    "prob_neg = 1 - prob_pos\n",
    "#The inverse of what we are trying to calculate\n",
    "prob_fine_and_neg = (prob_fine * prob_neg)/prob_neg\n",
    "\n",
    "#P(A | B) = P(B | A) * P(A) / [P(A)*P(B|A) + P(A~)*P(B|A~)]\n",
    "#P(neg|fine) = P(fine|neg) * P(neg) / [P(neg) * P(fine|neg) + P(pos) * P(fine|pos)]\n",
    "\n",
    "prob_neg_and_fine = prob_fine_and_neg * prob_neg / ((prob_neg * prob_fine_and_neg) + (prob_pos * prob_pos_and_fine))\n",
    "\n",
    "print('The probability that someone will be correctly diagnosed as a non-sufferer is {}'.format(prob_neg_and_fine))"
   ]
  },
  {
   "cell_type": "code",
   "execution_count": 8,
   "metadata": {},
   "outputs": [
    {
     "name": "stdout",
     "output_type": "stream",
     "text": [
      "The probability that a person would be misclassified is 0.011622002923814434\n"
     ]
    }
   ],
   "source": [
    "#Question 4: Calculate the probability that someone is misclassified.\n",
    "\n",
    "prob_incorrect = 1 - ((prob_pos_and_dis * prob_dis) + (prob_neg_and_fine * prob_fine))\n",
    "\n",
    "print('The probability that a person would be misclassified is {}'.format(prob_incorrect))"
   ]
  },
  {
   "cell_type": "code",
   "execution_count": null,
   "metadata": {},
   "outputs": [],
   "source": []
  }
 ],
 "metadata": {
  "kernelspec": {
   "display_name": "Python 3",
   "language": "python",
   "name": "python3"
  },
  "language_info": {
   "codemirror_mode": {
    "name": "ipython",
    "version": 3
   },
   "file_extension": ".py",
   "mimetype": "text/x-python",
   "name": "python",
   "nbconvert_exporter": "python",
   "pygments_lexer": "ipython3",
   "version": "3.6.3"
  }
 },
 "nbformat": 4,
 "nbformat_minor": 2
}
